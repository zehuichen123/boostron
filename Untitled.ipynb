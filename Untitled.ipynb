{
 "cells": [
  {
   "cell_type": "code",
   "execution_count": 29,
   "metadata": {
    "ExecuteTime": {
     "end_time": "2019-10-17T12:50:50.349571Z",
     "start_time": "2019-10-17T12:50:50.342644Z"
    }
   },
   "outputs": [],
   "source": [
    "import pandas as pd\n",
    "import numpy as np\n",
    "import matplotlib.pyplot as plt\n",
    "%matplotlib inline"
   ]
  },
  {
   "cell_type": "code",
   "execution_count": 105,
   "metadata": {
    "ExecuteTime": {
     "end_time": "2019-10-17T13:02:48.546405Z",
     "start_time": "2019-10-17T13:02:48.115723Z"
    }
   },
   "outputs": [],
   "source": [
    "x = pd.read_pickle('demo/credit_data/train.pkl')\n",
    "y = pd.read_pickle('demo/credit_data/train_target.pkl')['target']"
   ]
  },
  {
   "cell_type": "code",
   "execution_count": 106,
   "metadata": {
    "ExecuteTime": {
     "end_time": "2019-10-17T13:02:50.141289Z",
     "start_time": "2019-10-17T13:02:50.134602Z"
    }
   },
   "outputs": [],
   "source": [
    "n = x.shape[0]"
   ]
  },
  {
   "cell_type": "code",
   "execution_count": 107,
   "metadata": {
    "ExecuteTime": {
     "end_time": "2019-10-17T13:02:50.578165Z",
     "start_time": "2019-10-17T13:02:50.570173Z"
    }
   },
   "outputs": [
    {
     "data": {
      "text/plain": [
       "0    0\n",
       "1    0\n",
       "2    0\n",
       "3    0\n",
       "4    0\n",
       "Name: target, dtype: int64"
      ]
     },
     "execution_count": 107,
     "metadata": {},
     "output_type": "execute_result"
    }
   ],
   "source": [
    "y.head(5)"
   ]
  },
  {
   "cell_type": "code",
   "execution_count": 18,
   "metadata": {
    "ExecuteTime": {
     "end_time": "2019-10-17T12:44:40.255062Z",
     "start_time": "2019-10-17T12:44:40.222972Z"
    }
   },
   "outputs": [
    {
     "data": {
      "text/html": [
       "<div>\n",
       "<style scoped>\n",
       "    .dataframe tbody tr th:only-of-type {\n",
       "        vertical-align: middle;\n",
       "    }\n",
       "\n",
       "    .dataframe tbody tr th {\n",
       "        vertical-align: top;\n",
       "    }\n",
       "\n",
       "    .dataframe thead th {\n",
       "        text-align: right;\n",
       "    }\n",
       "</style>\n",
       "<table border=\"1\" class=\"dataframe\">\n",
       "  <thead>\n",
       "    <tr style=\"text-align: right;\">\n",
       "      <th></th>\n",
       "      <th>id</th>\n",
       "      <th>certId</th>\n",
       "      <th>loanProduct</th>\n",
       "      <th>gender</th>\n",
       "      <th>age</th>\n",
       "      <th>dist</th>\n",
       "      <th>edu</th>\n",
       "      <th>job</th>\n",
       "      <th>lmt</th>\n",
       "      <th>basicLevel</th>\n",
       "      <th>...</th>\n",
       "      <th>highestEdu</th>\n",
       "      <th>linkRela</th>\n",
       "      <th>setupHour</th>\n",
       "      <th>weekday</th>\n",
       "      <th>ncloseCreditCard</th>\n",
       "      <th>unpayIndvLoan</th>\n",
       "      <th>unpayOtherLoan</th>\n",
       "      <th>unpayNormalLoan</th>\n",
       "      <th>5yearBadloan</th>\n",
       "      <th>isNew</th>\n",
       "    </tr>\n",
       "  </thead>\n",
       "  <tbody>\n",
       "    <tr>\n",
       "      <th>0</th>\n",
       "      <td>1</td>\n",
       "      <td>640582</td>\n",
       "      <td>1</td>\n",
       "      <td>2</td>\n",
       "      <td>27</td>\n",
       "      <td>640500</td>\n",
       "      <td>0</td>\n",
       "      <td>8</td>\n",
       "      <td>5.963</td>\n",
       "      <td>3</td>\n",
       "      <td>...</td>\n",
       "      <td>-999</td>\n",
       "      <td>0</td>\n",
       "      <td>9</td>\n",
       "      <td>6</td>\n",
       "      <td>1</td>\n",
       "      <td>0</td>\n",
       "      <td>1</td>\n",
       "      <td>0</td>\n",
       "      <td>0</td>\n",
       "      <td>1</td>\n",
       "    </tr>\n",
       "    <tr>\n",
       "      <th>1</th>\n",
       "      <td>2</td>\n",
       "      <td>621023</td>\n",
       "      <td>2</td>\n",
       "      <td>2</td>\n",
       "      <td>25</td>\n",
       "      <td>640600</td>\n",
       "      <td>0</td>\n",
       "      <td>3</td>\n",
       "      <td>6.467</td>\n",
       "      <td>3</td>\n",
       "      <td>...</td>\n",
       "      <td>99</td>\n",
       "      <td>11</td>\n",
       "      <td>6</td>\n",
       "      <td>5</td>\n",
       "      <td>1</td>\n",
       "      <td>0</td>\n",
       "      <td>1</td>\n",
       "      <td>0</td>\n",
       "      <td>0</td>\n",
       "      <td>1</td>\n",
       "    </tr>\n",
       "    <tr>\n",
       "      <th>2</th>\n",
       "      <td>3</td>\n",
       "      <td>641283</td>\n",
       "      <td>1</td>\n",
       "      <td>2</td>\n",
       "      <td>37</td>\n",
       "      <td>641200</td>\n",
       "      <td>70</td>\n",
       "      <td>5</td>\n",
       "      <td>0.596</td>\n",
       "      <td>1</td>\n",
       "      <td>...</td>\n",
       "      <td>70</td>\n",
       "      <td>0</td>\n",
       "      <td>1</td>\n",
       "      <td>6</td>\n",
       "      <td>0</td>\n",
       "      <td>0</td>\n",
       "      <td>0</td>\n",
       "      <td>0</td>\n",
       "      <td>0</td>\n",
       "      <td>1</td>\n",
       "    </tr>\n",
       "    <tr>\n",
       "      <th>3</th>\n",
       "      <td>4</td>\n",
       "      <td>340821</td>\n",
       "      <td>3</td>\n",
       "      <td>2</td>\n",
       "      <td>29</td>\n",
       "      <td>340821</td>\n",
       "      <td>0</td>\n",
       "      <td>4</td>\n",
       "      <td>6.300</td>\n",
       "      <td>3</td>\n",
       "      <td>...</td>\n",
       "      <td>-999</td>\n",
       "      <td>-999</td>\n",
       "      <td>13</td>\n",
       "      <td>6</td>\n",
       "      <td>1</td>\n",
       "      <td>0</td>\n",
       "      <td>1</td>\n",
       "      <td>0</td>\n",
       "      <td>0</td>\n",
       "      <td>1</td>\n",
       "    </tr>\n",
       "    <tr>\n",
       "      <th>4</th>\n",
       "      <td>5</td>\n",
       "      <td>732628</td>\n",
       "      <td>2</td>\n",
       "      <td>2</td>\n",
       "      <td>22</td>\n",
       "      <td>732628</td>\n",
       "      <td>0</td>\n",
       "      <td>2</td>\n",
       "      <td>6.700</td>\n",
       "      <td>2</td>\n",
       "      <td>...</td>\n",
       "      <td>99</td>\n",
       "      <td>11</td>\n",
       "      <td>8</td>\n",
       "      <td>3</td>\n",
       "      <td>1</td>\n",
       "      <td>0</td>\n",
       "      <td>1</td>\n",
       "      <td>0</td>\n",
       "      <td>0</td>\n",
       "      <td>1</td>\n",
       "    </tr>\n",
       "  </tbody>\n",
       "</table>\n",
       "<p>5 rows × 104 columns</p>\n",
       "</div>"
      ],
      "text/plain": [
       "   id  certId  loanProduct  gender  age    dist  edu  job    lmt  basicLevel  \\\n",
       "0   1  640582            1       2   27  640500    0    8  5.963           3   \n",
       "1   2  621023            2       2   25  640600    0    3  6.467           3   \n",
       "2   3  641283            1       2   37  641200   70    5  0.596           1   \n",
       "3   4  340821            3       2   29  340821    0    4  6.300           3   \n",
       "4   5  732628            2       2   22  732628    0    2  6.700           2   \n",
       "\n",
       "   ...  highestEdu  linkRela  setupHour  weekday  ncloseCreditCard  \\\n",
       "0  ...        -999         0          9        6                 1   \n",
       "1  ...          99        11          6        5                 1   \n",
       "2  ...          70         0          1        6                 0   \n",
       "3  ...        -999      -999         13        6                 1   \n",
       "4  ...          99        11          8        3                 1   \n",
       "\n",
       "   unpayIndvLoan  unpayOtherLoan  unpayNormalLoan  5yearBadloan  isNew  \n",
       "0              0               1                0             0      1  \n",
       "1              0               1                0             0      1  \n",
       "2              0               0                0             0      1  \n",
       "3              0               1                0             0      1  \n",
       "4              0               1                0             0      1  \n",
       "\n",
       "[5 rows x 104 columns]"
      ]
     },
     "execution_count": 18,
     "metadata": {},
     "output_type": "execute_result"
    }
   ],
   "source": [
    "x.head(5)"
   ]
  },
  {
   "cell_type": "code",
   "execution_count": 19,
   "metadata": {
    "ExecuteTime": {
     "end_time": "2019-10-17T12:47:44.117230Z",
     "start_time": "2019-10-17T12:47:44.013540Z"
    }
   },
   "outputs": [],
   "source": [
    "has_bankcard = x['bankCard'].map(lambda x:0 if str(x)=='nan' else 1)"
   ]
  },
  {
   "cell_type": "code",
   "execution_count": 139,
   "metadata": {
    "ExecuteTime": {
     "end_time": "2019-10-17T13:25:23.112975Z",
     "start_time": "2019-10-17T13:25:23.104225Z"
    }
   },
   "outputs": [
    {
     "data": {
      "text/plain": [
       "array([125030,   6999])"
      ]
     },
     "execution_count": 139,
     "metadata": {},
     "output_type": "execute_result"
    }
   ],
   "source": [
    "np.bincount(np.maximum(x['x_12'].values, 0))"
   ]
  },
  {
   "cell_type": "code",
   "execution_count": 130,
   "metadata": {
    "ExecuteTime": {
     "end_time": "2019-10-17T13:03:39.794556Z",
     "start_time": "2019-10-17T13:03:39.638904Z"
    }
   },
   "outputs": [],
   "source": [
    "certId_data = x['certId'].values\n",
    "dist_data = x['dist'].values\n",
    "select_list = []\n",
    "area_acc = 10000\n",
    "for ii in range(n):\n",
    "    if (certId_data[ii]//area_acc) != (dist_data[ii]//area_acc):\n",
    "        select_list.append(ii)"
   ]
  },
  {
   "cell_type": "code",
   "execution_count": 131,
   "metadata": {
    "ExecuteTime": {
     "end_time": "2019-10-17T13:03:39.808197Z",
     "start_time": "2019-10-17T13:03:39.797599Z"
    }
   },
   "outputs": [
    {
     "data": {
      "text/plain": [
       "158"
      ]
     },
     "execution_count": 131,
     "metadata": {},
     "output_type": "execute_result"
    }
   ],
   "source": [
    "np.sum(y.values[select_list])"
   ]
  },
  {
   "cell_type": "code",
   "execution_count": null,
   "metadata": {},
   "outputs": [],
   "source": [
    "has_bankcard()"
   ]
  },
  {
   "cell_type": "code",
   "execution_count": null,
   "metadata": {},
   "outputs": [],
   "source": []
  }
 ],
 "metadata": {
  "kernelspec": {
   "display_name": "Python 3",
   "language": "python",
   "name": "python3"
  },
  "language_info": {
   "codemirror_mode": {
    "name": "ipython",
    "version": 3
   },
   "file_extension": ".py",
   "mimetype": "text/x-python",
   "name": "python",
   "nbconvert_exporter": "python",
   "pygments_lexer": "ipython3",
   "version": "3.6.7"
  }
 },
 "nbformat": 4,
 "nbformat_minor": 2
}
